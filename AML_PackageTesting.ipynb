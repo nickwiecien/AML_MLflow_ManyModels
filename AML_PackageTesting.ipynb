{
 "cells": [
  {
   "attachments": {},
   "cell_type": "markdown",
   "id": "9fb37946",
   "metadata": {},
   "source": [
    "# Azure Machine Learning - Many Models MLflow Package Testing\n",
    "\n",
    "Sample notebook demonstrating how to test the containerized many models deployment created through execution of the pipeline in this repo"
   ]
  },
  {
   "attachments": {},
   "cell_type": "markdown",
   "id": "2578ccba",
   "metadata": {},
   "source": [
    "### Import required packages"
   ]
  },
  {
   "cell_type": "code",
   "execution_count": null,
   "id": "ae28e027-c082-4ecc-870e-1091600c3662",
   "metadata": {},
   "outputs": [],
   "source": [
    "from azureml.core import Workspace, Model, Dataset\n",
    "import subprocess\n",
    "import requests\n",
    "import json\n",
    "import pandas as pd\n",
    "import warnings\n",
    "import requests\n",
    "import os\n",
    "warnings.filterwarnings('ignore')"
   ]
  },
  {
   "attachments": {},
   "cell_type": "markdown",
   "id": "b367b4c6",
   "metadata": {},
   "source": [
    "### Connect to AML workspace"
   ]
  },
  {
   "cell_type": "code",
   "execution_count": null,
   "id": "dcbf115a-6bdd-4e83-a259-87f630e4b6e6",
   "metadata": {},
   "outputs": [],
   "source": [
    "ws = Workspace.from_config()\n",
    "kv = ws.get_default_keyvault()"
   ]
  },
  {
   "attachments": {},
   "cell_type": "markdown",
   "id": "fc5c8b28",
   "metadata": {},
   "source": [
    "### Retrieve ACR credentials from AML-linked Key Vault"
   ]
  },
  {
   "cell_type": "code",
   "execution_count": null,
   "id": "17769ee5-68f7-4f8b-a1b4-70d731708cd7",
   "metadata": {},
   "outputs": [],
   "source": [
    "acr_username = kv.get_secret('acr-username')\n",
    "acr_password = kv.get_secret('acr-password')\n",
    "acr_address = kv.get_secret('acr-address')"
   ]
  },
  {
   "attachments": {},
   "cell_type": "markdown",
   "id": "a62854fa",
   "metadata": {},
   "source": [
    "### Define location of created deployment (many models container)"
   ]
  },
  {
   "cell_type": "code",
   "execution_count": null,
   "id": "7706565e-8d5e-43b8-9127-5f7d9ae20e4f",
   "metadata": {},
   "outputs": [],
   "source": [
    "container_name = 'manymodelsdeployment'\n",
    "container_version = '<YOUR-CONTAINER-VERSION>'\n",
    "location = f'{acr_address}/{container_name}:{container_version}'\n",
    "location"
   ]
  },
  {
   "attachments": {},
   "cell_type": "markdown",
   "id": "7a9bde2b",
   "metadata": {},
   "source": [
    "### Utilize subprocess to pull and start container"
   ]
  },
  {
   "cell_type": "code",
   "execution_count": null,
   "id": "c1fd816b-4c61-4b8a-86ea-7209bee3e729",
   "metadata": {},
   "outputs": [],
   "source": [
    "subprocess.check_call(['docker', 'login', acr_address, '-u', acr_username, '-p', acr_password])\n",
    "subprocess.check_call(['docker', 'pull', location])\n",
    "subprocess.check_call(['docker', 'run', '-d', '-p', '5001:5001', location])"
   ]
  },
  {
   "attachments": {},
   "cell_type": "markdown",
   "id": "731aecdd",
   "metadata": {},
   "source": [
    "### Retrieve model testing data from AML workspace"
   ]
  },
  {
   "cell_type": "code",
   "execution_count": null,
   "id": "454bff74-e238-4bea-b714-308b5202e4f0",
   "metadata": {},
   "outputs": [],
   "source": [
    "import shutil\n",
    "try:\n",
    "    shutil.rmtree('./tmp')\n",
    "except Exception as e:\n",
    "    pass\n",
    "\n",
    "os.mkdir('./tmp')\n",
    "\n",
    "testing_dataset = Dataset.get_by_name(ws, 'HomePrices_Testing_Data')\n",
    "testing_dataset.download(target_path='./tmp')"
   ]
  },
  {
   "attachments": {},
   "cell_type": "markdown",
   "id": "5e76168e",
   "metadata": {},
   "source": [
    "### Submit test datasets for all deployed models to local endpoint to verify deployment performance"
   ]
  },
  {
   "cell_type": "code",
   "execution_count": null,
   "id": "e3e35ea8-5fe6-4178-b90d-ce4d7b6cdd96",
   "metadata": {},
   "outputs": [],
   "source": [
    "training_files = os.listdir('./tmp')\n",
    "\n",
    "for file in training_files:\n",
    "    file_name = os.path.basename(file)[:-4]\n",
    "    model_name = file_name + '_MLModel'\n",
    "    curr_df = pd.read_csv(f'./tmp/{file}')\n",
    "    curr_df = curr_df.drop(columns=['target'])\n",
    "    curr_df_string = curr_df.to_json(orient='records')\n",
    "    body = {'model_name': model_name, 'data':curr_df_string}\n",
    "    \n",
    "    uri = 'http://localhost:5001/score'\n",
    "    headers = {'Content-Type': 'application/json'}\n",
    "    response = requests.post(uri, data=json.dumps(body), headers=headers)\n",
    "    \n",
    "    print(model_name)\n",
    "    print(response.json())\n",
    "    print()"
   ]
  }
 ],
 "metadata": {
  "kernelspec": {
   "display_name": "Python 3",
   "language": "python",
   "name": "python3"
  },
  "language_info": {
   "codemirror_mode": {
    "name": "ipython",
    "version": 3
   },
   "file_extension": ".py",
   "mimetype": "text/x-python",
   "name": "python",
   "nbconvert_exporter": "python",
   "pygments_lexer": "ipython3",
   "version": "3.7.7 (tags/v3.7.7:d7c567b08f, Mar 10 2020, 10:41:24) [MSC v.1900 64 bit (AMD64)]"
  },
  "vscode": {
   "interpreter": {
    "hash": "f2e0b197ae37a172a070d322ccdfd2dc89f3ea78020965c5820be3c5f3a0dbfb"
   }
  }
 },
 "nbformat": 4,
 "nbformat_minor": 5
}
